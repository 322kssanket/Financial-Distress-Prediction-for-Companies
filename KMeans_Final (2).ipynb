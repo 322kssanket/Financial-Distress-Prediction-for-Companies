{
  "nbformat": 4,
  "nbformat_minor": 0,
  "metadata": {
    "colab": {
      "provenance": []
    },
    "kernelspec": {
      "name": "python3",
      "display_name": "Python 3"
    },
    "language_info": {
      "name": "python"
    }
  },
  "cells": [
    {
      "cell_type": "code",
      "execution_count": 122,
      "metadata": {
        "id": "NEKuCWIUszvv"
      },
      "outputs": [],
      "source": [
        "import pandas as pd\n",
        "import matplotlib.pyplot as plt\n",
        "import numpy as np\n",
        "from sklearn.decomposition import PCA\n",
        "from sklearn.preprocessing import StandardScaler\n",
        "from sklearn.cluster import KMeans\n",
        "import seaborn as sns"
      ]
    },
    {
      "cell_type": "code",
      "source": [
        "df = pd.read_csv('/content/Financial Distress.csv')"
      ],
      "metadata": {
        "id": "pFbmarDXrxwQ"
      },
      "execution_count": 123,
      "outputs": []
    },
    {
      "cell_type": "code",
      "source": [
        "df.drop(columns =['Company','Time'])"
      ],
      "metadata": {
        "id": "d24SX9Acr7q4"
      },
      "execution_count": null,
      "outputs": []
    },
    {
      "cell_type": "code",
      "source": [
        "plt.matshow(df.corr())\n",
        "plt.show()"
      ],
      "metadata": {
        "id": "xpKN-vlj8g_D"
      },
      "execution_count": null,
      "outputs": []
    },
    {
      "cell_type": "code",
      "source": [
        "scaler = StandardScaler()\n",
        "df_scaled = scaler.fit_transform(df)\n",
        "df_scaled"
      ],
      "metadata": {
        "id": "mcjRShX6vevg"
      },
      "execution_count": null,
      "outputs": []
    },
    {
      "cell_type": "code",
      "source": [
        "\n",
        "pca = PCA(n_components=2)\n",
        "df_pca = pca.fit_transform(df_scaled)"
      ],
      "metadata": {
        "id": "ZGhVUGwfuj9J"
      },
      "execution_count": 127,
      "outputs": []
    },
    {
      "cell_type": "code",
      "source": [
        "kmeans = KMeans(n_clusters=5)"
      ],
      "metadata": {
        "id": "U0vpluVsve37"
      },
      "execution_count": 128,
      "outputs": []
    },
    {
      "cell_type": "code",
      "source": [
        "kmeans.fit(df_pca)"
      ],
      "metadata": {
        "id": "WeKDkStNve-D"
      },
      "execution_count": null,
      "outputs": []
    },
    {
      "cell_type": "code",
      "source": [
        "df['kmeans_5'] = kmeans.labels_"
      ],
      "metadata": {
        "id": "Wr8RjWSqvfCZ"
      },
      "execution_count": 130,
      "outputs": []
    },
    {
      "cell_type": "markdown",
      "source": [
        " **Results**"
      ],
      "metadata": {
        "id": "OVV7w4AJoXzX"
      }
    },
    {
      "cell_type": "code",
      "source": [
        "cluster_labels = kmeans.labels_"
      ],
      "metadata": {
        "id": "AQmbWc7jvVLw"
      },
      "execution_count": 131,
      "outputs": []
    },
    {
      "cell_type": "code",
      "source": [
        "plt.scatter(df_pca[:, 0], df_pca[:, 1], c=cluster_labels, cmap='rainbow')\n",
        "plt.title('K mean Clusters in 2D PCA-reduced space')\n",
        "plt.xlabel('Principal Component 1')\n",
        "plt.ylabel('Principal Component 2')\n",
        "plt.show()"
      ],
      "metadata": {
        "id": "9KR4BIDG0Hk5"
      },
      "execution_count": null,
      "outputs": []
    },
    {
      "cell_type": "code",
      "source": [
        "sse = kmeans.inertia_"
      ],
      "metadata": {
        "id": "8TP_y63O0UNw"
      },
      "execution_count": 100,
      "outputs": []
    },
    {
      "cell_type": "code",
      "source": [
        "print(f'Sum of Squared Errors (SSE) for K-means: {sse}')"
      ],
      "metadata": {
        "id": "nnd5Mozu0UVe",
        "colab": {
          "base_uri": "https://localhost:8080/"
        },
        "outputId": "8aff3e67-0eba-4489-ef49-38598f80931d"
      },
      "execution_count": 101,
      "outputs": [
        {
          "output_type": "stream",
          "name": "stdout",
          "text": [
            "Sum of Squared Errors (SSE) for K-means: 18007.702275634612\n"
          ]
        }
      ]
    }
  ]
}